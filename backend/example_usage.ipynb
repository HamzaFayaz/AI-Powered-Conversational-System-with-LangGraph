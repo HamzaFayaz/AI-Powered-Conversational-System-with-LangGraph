{
 "cells": [
  {
   "cell_type": "code",
   "execution_count": null,
   "id": "6a7cfacc",
   "metadata": {},
   "outputs": [
    {
     "name": "stdout",
     "output_type": "stream",
     "text": [
      "[HumanMessage(content='Todays weather in usa', additional_kwargs={}, response_metadata={}, id='d0bb593f-ce7e-46cc-99b0-e51a1c2eec41'), AIMessage(content=\"I'm not able to provide you with the current weather in the USA as the function call did not return the required information.\", additional_kwargs={}, response_metadata={}, name='Rag_agent', id='c76427a4-9f6d-4b3b-b8a2-4490c99d983d'), AIMessage(content='The current weather in the USA is mostly cloudy with scattered showers, with highs ranging from 75°F to 91°F (24°C to 33°C) and lows ranging from 56°F to 78°F (13°C to 25°C). There is a chance of rain in various parts of the country, with some areas experiencing partly sunny conditions. The weather forecast varies by region, with some areas experiencing cooler temperatures and others experiencing warmer temperatures. It is recommended to check the weather forecast for specific locations to get a more accurate idea of the current weather conditions.', additional_kwargs={}, response_metadata={}, name='Researcher', id='e079c705-f27a-487d-8b79-d3e8d51d7665'), AIMessage(content='**Current Weather in the USA**\\nThe current weather in the USA is mostly cloudy with scattered showers. Temperatures range from 75°F to 91°F (24°C to 33°C) for highs and 56°F to 78°F (13°C to 25°C) for lows. There is a chance of rain in various parts of the country, with some areas experiencing partly sunny conditions. For more accurate and location-specific information, it is recommended to check the weather forecast for your specific area.', additional_kwargs={}, response_metadata={}, name='final_response', id='654f2921-7f8d-4346-ada9-597676f99d31')]\n"
     ]
    }
   ],
   "source": [
    "\"\"\"\n",
    "Example usage of the restructured chatbot system.\n",
    "This file demonstrates how to use the chatbot and ingestion components.\n",
    "\"\"\"\n",
    "from uuid import uuid4\n",
    "from langchain_core.messages import HumanMessage\n",
    "from app.graph.builder import create_graph\n",
    "from app.ingestion.loaders import load_text_file\n",
    "from app.ingestion.uploader import store_text_in_pinecone\n",
    "\n",
    "# Example: Store data in Pinecone (uncomment to use)\n",
    "# sample_text = load_text_file('sample_data.txt')\n",
    "# store_text_in_pinecone(sample_text)\n",
    "\n",
    "# Example: Use the chatbot\n",
    "if __name__ == \"__main__\":   # Create the graph\n",
    "    graph = create_graph()\n",
    "        \n",
    "        # Create a thread configuration\n",
    "    thread_id = 'user-19'\n",
    "    config = {\"configurable\": {\"thread_id\": thread_id}}\n",
    "        \n",
    "        # Example conversation\n",
    "    initial_message = HumanMessage(content=\"Todays weather in usa\")\n",
    "\n",
    "    state_input = {\n",
    "            \"messages\": [initial_message] \n",
    "        }\n",
    "        # Run the graph\n",
    "    result = graph.invoke(state_input, config=config)\n",
    "        \n",
    "    print(result[\"messages\"])\n",
    "\n",
    "\n",
    "    "
   ]
  },
  {
   "cell_type": "code",
   "execution_count": 13,
   "id": "bd45166a",
   "metadata": {},
   "outputs": [
    {
     "name": "stdout",
     "output_type": "stream",
     "text": [
      "content='Current Temperature Information\\nThe current temperature in the USA varies by region, with highs ranging from 75°F to 91°F and lows ranging from 56°F to 78°F.' additional_kwargs={} response_metadata={} name='final_response' id='718f1ae3-b53b-4fa7-bb49-9854b2cddad3'\n"
     ]
    }
   ],
   "source": [
    "thread_id = 'user-19'\n",
    "config = {\"configurable\": {\"thread_id\": thread_id}}\n",
    "        \n",
    "        # Example conversation\n",
    "initial_message = HumanMessage(content=\"what was the temperture\")\n",
    "        \n",
    "\n",
    "state_input = {\n",
    "            \"messages\": [initial_message] \n",
    "        }\n",
    "        # Run the graph\n",
    "result = graph.invoke(state_input, config=config)\n",
    "        \n",
    "print(result[\"messages\"][-1])"
   ]
  },
  {
   "cell_type": "code",
   "execution_count": 2,
   "id": "81d56b7c",
   "metadata": {},
   "outputs": [
    {
     "name": "stdout",
     "output_type": "stream",
     "text": [
      "6.0.2\n"
     ]
    },
    {
     "name": "stderr",
     "output_type": "stream",
     "text": [
      "d:\\Github\\AI\\NLP\\agentic_chatbot\\env_chatbot\\Lib\\site-packages\\tqdm\\auto.py:21: TqdmWarning: IProgress not found. Please update jupyter and ipywidgets. See https://ipywidgets.readthedocs.io/en/stable/user_install.html\n",
      "  from .autonotebook import tqdm as notebook_tqdm\n"
     ]
    }
   ],
   "source": [
    "import pinecone\n",
    "print(pinecone.__version__)\n"
   ]
  }
 ],
 "metadata": {
  "kernelspec": {
   "display_name": "env_chatbot",
   "language": "python",
   "name": "python3"
  },
  "language_info": {
   "codemirror_mode": {
    "name": "ipython",
    "version": 3
   },
   "file_extension": ".py",
   "mimetype": "text/x-python",
   "name": "python",
   "nbconvert_exporter": "python",
   "pygments_lexer": "ipython3",
   "version": "3.11.5"
  }
 },
 "nbformat": 4,
 "nbformat_minor": 5
}
